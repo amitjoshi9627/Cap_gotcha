{
  "nbformat": 4,
  "nbformat_minor": 0,
  "metadata": {
    "colab": {
      "name": "Captcha_Solver.ipynb",
      "version": "0.3.2",
      "provenance": [],
      "collapsed_sections": []
    },
    "kernelspec": {
      "name": "python3",
      "display_name": "Python 3"
    },
    "accelerator": "GPU"
  },
  "cells": [
    {
      "metadata": {
        "id": "bH-GVGE7Vhs5",
        "colab_type": "text"
      },
      "cell_type": "markdown",
      "source": [
        "# Captcha Solver"
      ]
    },
    {
      "metadata": {
        "id": "Cx1LK1NAEcnI",
        "colab_type": "code",
        "colab": {}
      },
      "cell_type": "code",
      "source": [
        "import cv2\n",
        "import keras\n",
        "import numpy as np\n",
        "from matplotlib import pyplot as plt"
      ],
      "execution_count": 0,
      "outputs": []
    },
    {
      "metadata": {
        "id": "pXCj86wRh0PK",
        "colab_type": "code",
        "colab": {}
      },
      "cell_type": "code",
      "source": [
        "%%capture\n",
        "!unzip generated_captcha_images.zip"
      ],
      "execution_count": 0,
      "outputs": []
    },
    {
      "metadata": {
        "id": "aiBIOMqhWDd6",
        "colab_type": "text"
      },
      "cell_type": "markdown",
      "source": [
        "## Data Processing"
      ]
    },
    {
      "metadata": {
        "id": "cAbh94sqWKAF",
        "colab_type": "text"
      },
      "cell_type": "markdown",
      "source": [
        "### Extracting Single letters from Captcha."
      ]
    },
    {
      "metadata": {
        "id": "7AFYg2Hsk_lA",
        "colab_type": "code",
        "colab": {}
      },
      "cell_type": "code",
      "source": [
        "import os \n",
        "import os.path, glob, imutils"
      ],
      "execution_count": 0,
      "outputs": []
    },
    {
      "metadata": {
        "id": "JS0lvfQulKP3",
        "colab_type": "code",
        "colab": {}
      },
      "cell_type": "code",
      "source": [
        "captcha_image_folder = \"generated_captcha_images\"\n",
        "output_folder = \"extracted_letter_images\""
      ],
      "execution_count": 0,
      "outputs": []
    },
    {
      "metadata": {
        "id": "lecPCg9Pl6ON",
        "colab_type": "code",
        "colab": {}
      },
      "cell_type": "code",
      "source": [
        "# Getting a list of all the captcha images we need to process\n",
        "captcha_image_files = glob.glob(os.path.join(captcha_image_folder,'*'))"
      ],
      "execution_count": 0,
      "outputs": []
    },
    {
      "metadata": {
        "id": "HfV8O0Fymor0",
        "colab_type": "code",
        "colab": {}
      },
      "cell_type": "code",
      "source": [
        "counts = {}"
      ],
      "execution_count": 0,
      "outputs": []
    },
    {
      "metadata": {
        "id": "ZWdQpJp_mvWO",
        "colab_type": "code",
        "colab": {}
      },
      "cell_type": "code",
      "source": [
        "# loop over the image paths\n",
        "for i,image_file in enumerate(captcha_image_files):\n",
        "    print(\"[INFO] processing image {}/{}\".format(i + 1, len(captcha_image_files)))\n",
        "    \n",
        "    # grab the base filename as the text\n",
        "    file_name = os.path.basename(image_file)\n",
        "    correct_text = os.path.splitext(file_name)[0]\n",
        "    \n",
        "    # Load the image\n",
        "    image = cv2.imread(image_file,cv2.IMREAD_GRAYSCALE)\n",
        "    \n",
        "    # Addding some extra padding around the image\n",
        "    image = cv2.copyMakeBorder(image,8,8,8,8,cv2.BORDER_REPLICATE)\n",
        "    \n",
        "    # threshold the image (convert it to pure black and white)\n",
        "    thresh = cv2.threshold(image, 0, 255, cv2.THRESH_BINARY_INV | cv2.THRESH_OTSU)[1]\n",
        "    \n",
        "    #Finding the contours\n",
        "    contours = cv2.findContours(thresh.copy(), cv2.RETR_EXTERNAL, cv2.CHAIN_APPROX_SIMPLE)\n",
        "    \n",
        "    contours = contours[0] if imutils.is_cv2() else contours[1]\n",
        "    letter_image_regions = []\n",
        "    \n",
        "    # Now we can loop through each of the four contours and extract the letter inside of each one\n",
        "    for contour in contours:\n",
        "        \n",
        "        (x,y,w,h) = cv2.boundingRect(contour)\n",
        "        if h == 0:\n",
        "            print(x,y,w,h)\n",
        "        if w/h > 1.25:\n",
        "            \n",
        "            # This contour is too wide to be a single letter!\n",
        "            # Split it in half into two letter regions!\n",
        "            \n",
        "            half_width = int(w/2)\n",
        "            letter_image_regions.append((x, y, half_width, h))\n",
        "            letter_image_regions.append((x + half_width, y, half_width, h))\n",
        "            \n",
        "        else:\n",
        "            letter_image_regions.append((x,y,w,h))\n",
        "            \n",
        "    if len(letter_image_regions)>4:\n",
        "        continue\n",
        "    \n",
        "    letter_image_regions = sorted(letter_image_regions, key=lambda x: x[0])\n",
        "    \n",
        "    for box,text in zip(letter_image_regions, correct_text):\n",
        "        \n",
        "        (x,y,w,h) = box\n",
        "        \n",
        "        letter_image = image[y-2: y+h+2,x-2:x+w+2]\n",
        "        saving_path = os.path.join(output_folder,text)\n",
        "        \n",
        "        # If the folder doesn't exists make it\n",
        "        if not os.path.exists(saving_path):\n",
        "            os.makedirs(saving_path)\n",
        "        count = counts.get(text,1)\n",
        "        \n",
        "        # Writing image to file\n",
        "        p = os.path.join(saving_path,f'{str(count).zfill(6)}.png')\n",
        "        cv2.imwrite(p,letter_image)        \n",
        "        counts[text]= count + 1"
      ],
      "execution_count": 0,
      "outputs": []
    },
    {
      "metadata": {
        "id": "As-HZXYaYPfH",
        "colab_type": "code",
        "outputId": "eb413ba4-1330-4266-93f4-c824ea24e72c",
        "colab": {
          "base_uri": "https://localhost:8080/",
          "height": 54
        }
      },
      "cell_type": "code",
      "source": [
        "for i,j in counts.items():\n",
        "    print(f'{i}: {j}',end= ' ')"
      ],
      "execution_count": 0,
      "outputs": [
        {
          "output_type": "stream",
          "text": [
            "R: 1228 B: 1204 5: 1235 M: 1197 E: 1264 F: 1182 X: 1210 Y: 1224 Z: 1232 D: 1200 W: 1194 4: 1202 U: 1206 6: 1167 2: 1209 8: 1216 3: 1210 T: 1224 N: 1252 Q: 1217 J: 1139 G: 1228 L: 1202 V: 1159 P: 1248 K: 1225 H: 1227 7: 1285 C: 1204 9: 1359 S: 1232 A: 1193 "
          ],
          "name": "stdout"
        }
      ]
    },
    {
      "metadata": {
        "id": "gtt3HOAB1VoT",
        "colab_type": "code",
        "colab": {}
      },
      "cell_type": "code",
      "source": [
        "mapping = {'A': 8, 'B': 9, 'C': 10, 'D': 11, 'E': 12, 'F': 13, 'G': 14,\n",
        "           'H': 15, 'J': 16, 'K': 17, 'L': 18, 'M': 19, 'N': 20, 'P': 21, \n",
        "           'Q': 22, 'R': 23, 'S': 24, 'T': 25, 'U': 26,'V': 27, 'W': 28,\n",
        "           'X': 29, 'Y': 30, 'Z': 31, '2':0,'3': 1, '4': 2,'5': 3, '6':4,\n",
        "           '7': 5,'8': 6,\n",
        "           '9': 7}"
      ],
      "execution_count": 0,
      "outputs": []
    },
    {
      "metadata": {
        "id": "65ONyQzyYkML",
        "colab_type": "text"
      },
      "cell_type": "markdown",
      "source": [
        "## Building and Training model"
      ]
    },
    {
      "metadata": {
        "id": "0sLQ9oM9ZWmD",
        "colab_type": "text"
      },
      "cell_type": "markdown",
      "source": [
        "### Making training and validation data"
      ]
    },
    {
      "metadata": {
        "id": "OYwOXEL4yv8x",
        "colab_type": "code",
        "colab": {}
      },
      "cell_type": "code",
      "source": [
        "base_filename = 'extracted_letter_images'\n",
        "y = np.array([])\n",
        "len_letter = []\n",
        "images = []\n",
        "for folder in os.listdir(base_filename):\n",
        "    Subdir = os.path.join(base_filename,folder)\n",
        "    file_names = glob.glob( os.path.join( Subdir, '*' ))\n",
        "    n_files = len(file_names)\n",
        "    len_letter.append(n_files)\n",
        "    label = mapping[folder]\n",
        "    labels = np.full(n_files,label)\n",
        "    \n",
        "    if y.shape == (0,):\n",
        "        y = labels\n",
        "    else:\n",
        "        y = np.append(y,labels)\n",
        "    \n",
        "    for name in file_names:\n",
        "        image = cv2.imread(name, cv2.IMREAD_GRAYSCALE)\n",
        "        images.append(image)"
      ],
      "execution_count": 0,
      "outputs": []
    },
    {
      "metadata": {
        "id": "eFa8C46oZehb",
        "colab_type": "text"
      },
      "cell_type": "markdown",
      "source": [
        "#### Resizing images"
      ]
    },
    {
      "metadata": {
        "id": "ph8vqkId8xDM",
        "colab_type": "code",
        "colab": {}
      },
      "cell_type": "code",
      "source": [
        "img_width, img_height = 20, 20\n",
        "\n",
        "resized_images = [cv2.resize(img, (img_width, img_height), interpolation = cv2.INTER_CUBIC) for img in images]\n"
      ],
      "execution_count": 0,
      "outputs": []
    },
    {
      "metadata": {
        "id": "ZDpxSzyy6JdQ",
        "colab_type": "code",
        "outputId": "2e07b007-085a-40a7-d98c-5b370329c0e8",
        "colab": {
          "base_uri": "https://localhost:8080/",
          "height": 34
        }
      },
      "cell_type": "code",
      "source": [
        "np.array(resized_images[0]).shape"
      ],
      "execution_count": 0,
      "outputs": [
        {
          "output_type": "execute_result",
          "data": {
            "text/plain": [
              "(20, 20)"
            ]
          },
          "metadata": {
            "tags": []
          },
          "execution_count": 27
        }
      ]
    },
    {
      "metadata": {
        "id": "kErKTTHE6hBE",
        "colab_type": "code",
        "outputId": "d3935967-9724-4762-a139-afaa1e97b2d6",
        "colab": {
          "base_uri": "https://localhost:8080/",
          "height": 34
        }
      },
      "cell_type": "code",
      "source": [
        "y.shape"
      ],
      "execution_count": 0,
      "outputs": [
        {
          "output_type": "execute_result",
          "data": {
            "text/plain": [
              "(38942,)"
            ]
          },
          "metadata": {
            "tags": []
          },
          "execution_count": 28
        }
      ]
    },
    {
      "metadata": {
        "id": "0AaG30T-ZkkB",
        "colab_type": "text"
      },
      "cell_type": "markdown",
      "source": [
        "### Splitting Data into training and validation"
      ]
    },
    {
      "metadata": {
        "id": "MM4-q9w7wcP2",
        "colab_type": "code",
        "colab": {}
      },
      "cell_type": "code",
      "source": [
        "from keras.models import Sequential\n",
        "from keras.layers import Conv2D,Dense,Flatten,MaxPooling2D,Dropout"
      ],
      "execution_count": 0,
      "outputs": []
    },
    {
      "metadata": {
        "id": "NfLTV-FjxQ0Q",
        "colab_type": "code",
        "colab": {}
      },
      "cell_type": "code",
      "source": [
        "from sklearn.model_selection import train_test_split\n",
        "\n",
        "X_train,X_test,y_train,y_test = train_test_split(np.array(resized_images),y, train_size=0.8, test_size=0.2)\n",
        "\n",
        "X_train = X_train.reshape(len(X_train),20,20,1).astype('float32')\n",
        "X_test = X_test.reshape(len(X_test),20,20,1).astype('float32')\n",
        "\n",
        "y_train = keras.utils.to_categorical(y_train, 32)\n",
        "y_test = keras.utils.to_categorical(y_test, 32)"
      ],
      "execution_count": 0,
      "outputs": []
    },
    {
      "metadata": {
        "id": "yZ_eBut_2sGL",
        "colab_type": "code",
        "outputId": "c7e1f77d-0e8d-40f7-a3c2-959891325c7d",
        "colab": {
          "base_uri": "https://localhost:8080/",
          "height": 34
        }
      },
      "cell_type": "code",
      "source": [
        "len(X_train), len(y_train)"
      ],
      "execution_count": 0,
      "outputs": [
        {
          "output_type": "execute_result",
          "data": {
            "text/plain": [
              "(31153, 31153)"
            ]
          },
          "metadata": {
            "tags": []
          },
          "execution_count": 32
        }
      ]
    },
    {
      "metadata": {
        "id": "3d6VcfHG3iIt",
        "colab_type": "code",
        "outputId": "1e7da9cf-5cf4-45eb-bcd1-c821c6f253b4",
        "colab": {
          "base_uri": "https://localhost:8080/",
          "height": 34
        }
      },
      "cell_type": "code",
      "source": [
        "len(X_test), len(y_test)"
      ],
      "execution_count": 0,
      "outputs": [
        {
          "output_type": "execute_result",
          "data": {
            "text/plain": [
              "(7789, 7789)"
            ]
          },
          "metadata": {
            "tags": []
          },
          "execution_count": 33
        }
      ]
    },
    {
      "metadata": {
        "id": "U6imL8AqZ8bx",
        "colab_type": "text"
      },
      "cell_type": "markdown",
      "source": [
        "### Building Model"
      ]
    },
    {
      "metadata": {
        "id": "iuvksHUb3wk1",
        "colab_type": "code",
        "colab": {}
      },
      "cell_type": "code",
      "source": [
        "model = Sequential()"
      ],
      "execution_count": 0,
      "outputs": []
    },
    {
      "metadata": {
        "id": "RD8puwSP4Tr-",
        "colab_type": "code",
        "outputId": "48c813f2-21ef-4eec-f903-06f5d185aec1",
        "colab": {
          "base_uri": "https://localhost:8080/",
          "height": 141
        }
      },
      "cell_type": "code",
      "source": [
        "model.add(Conv2D(32,(3,3),input_shape = (20,20,1),activation = 'relu', name = 'Conv2D_1'))\n",
        "model.add(Conv2D(32,(3,3),activation = 'relu', name = 'Conv2D_2'))\n",
        "model.add(MaxPooling2D(pool_size=(2, 2), name = 'MaxPool2D_1'))\n",
        "model.add(Dropout(0.25, name = 'Dropout_1'))\n",
        "\n",
        "model.add(Conv2D(64,(3,3),activation = 'relu', name = 'Conv2d_3'))\n",
        "model.add(Conv2D(64,(3,3),activation = 'relu', name = 'Conv2d_4'))\n",
        "model.add(MaxPooling2D(pool_size=(2, 2), name = 'MaxPool2D_2'))\n",
        "model.add(Flatten(name = 'Flatten'))\n",
        "\n",
        "model.add(Dense(256,activation='relu', name = 'Dense_1'))\n",
        "model.add(Dropout(0.5, name = 'Dropout_2'))\n",
        "model.add(Dense(64,activation='relu',name = 'Dense_2'))\n",
        "model.add(Dense(32,activation='softmax', name = 'Dense_3'))\n",
        "\n",
        "model.compile(loss = 'categorical_crossentropy',optimizer='adam',metrics = ['accuracy'])"
      ],
      "execution_count": 0,
      "outputs": [
        {
          "output_type": "stream",
          "text": [
            "WARNING:tensorflow:From /usr/local/lib/python3.6/dist-packages/tensorflow/python/framework/op_def_library.py:263: colocate_with (from tensorflow.python.framework.ops) is deprecated and will be removed in a future version.\n",
            "Instructions for updating:\n",
            "Colocations handled automatically by placer.\n",
            "WARNING:tensorflow:From /usr/local/lib/python3.6/dist-packages/keras/backend/tensorflow_backend.py:3445: calling dropout (from tensorflow.python.ops.nn_ops) with keep_prob is deprecated and will be removed in a future version.\n",
            "Instructions for updating:\n",
            "Please use `rate` instead of `keep_prob`. Rate should be set to `rate = 1 - keep_prob`.\n"
          ],
          "name": "stdout"
        }
      ]
    },
    {
      "metadata": {
        "id": "mjdNk8go4o6w",
        "colab_type": "code",
        "outputId": "22bd69da-e795-4da4-c904-78e6ef8d719d",
        "colab": {
          "base_uri": "https://localhost:8080/",
          "height": 555
        }
      },
      "cell_type": "code",
      "source": [
        "model.summary()"
      ],
      "execution_count": 0,
      "outputs": [
        {
          "output_type": "stream",
          "text": [
            "_________________________________________________________________\n",
            "Layer (type)                 Output Shape              Param #   \n",
            "=================================================================\n",
            "Conv2D_1 (Conv2D)            (None, 18, 18, 32)        320       \n",
            "_________________________________________________________________\n",
            "Conv2D_2 (Conv2D)            (None, 16, 16, 32)        9248      \n",
            "_________________________________________________________________\n",
            "MaxPool2D_1 (MaxPooling2D)   (None, 8, 8, 32)          0         \n",
            "_________________________________________________________________\n",
            "Dropout_1 (Dropout)          (None, 8, 8, 32)          0         \n",
            "_________________________________________________________________\n",
            "Conv2d_3 (Conv2D)            (None, 6, 6, 64)          18496     \n",
            "_________________________________________________________________\n",
            "Conv2d_4 (Conv2D)            (None, 4, 4, 64)          36928     \n",
            "_________________________________________________________________\n",
            "MaxPool2D_2 (MaxPooling2D)   (None, 2, 2, 64)          0         \n",
            "_________________________________________________________________\n",
            "Flatten (Flatten)            (None, 256)               0         \n",
            "_________________________________________________________________\n",
            "Dense_1 (Dense)              (None, 256)               65792     \n",
            "_________________________________________________________________\n",
            "Dropout_2 (Dropout)          (None, 256)               0         \n",
            "_________________________________________________________________\n",
            "Dense_2 (Dense)              (None, 64)                16448     \n",
            "_________________________________________________________________\n",
            "Dense_3 (Dense)              (None, 32)                2080      \n",
            "=================================================================\n",
            "Total params: 149,312\n",
            "Trainable params: 149,312\n",
            "Non-trainable params: 0\n",
            "_________________________________________________________________\n"
          ],
          "name": "stdout"
        }
      ]
    },
    {
      "metadata": {
        "id": "vZFcxAg1ZqGb",
        "colab_type": "text"
      },
      "cell_type": "markdown",
      "source": [
        "### Training Model"
      ]
    },
    {
      "metadata": {
        "id": "QeR5orn75AC6",
        "colab_type": "code",
        "outputId": "e698ac19-4120-48d2-ca9a-1fd31d03f493",
        "colab": {
          "base_uri": "https://localhost:8080/",
          "height": 471
        }
      },
      "cell_type": "code",
      "source": [
        "model.fit(X_train,y_train,batch_size=32,validation_data=(X_test, y_test), epochs=10, verbose=1)"
      ],
      "execution_count": 0,
      "outputs": [
        {
          "output_type": "stream",
          "text": [
            "WARNING:tensorflow:From /usr/local/lib/python3.6/dist-packages/tensorflow/python/ops/math_ops.py:3066: to_int32 (from tensorflow.python.ops.math_ops) is deprecated and will be removed in a future version.\n",
            "Instructions for updating:\n",
            "Use tf.cast instead.\n",
            "Train on 31153 samples, validate on 7789 samples\n",
            "Epoch 1/10\n",
            "31153/31153 [==============================] - 11s 354us/step - loss: 2.8089 - acc: 0.6351 - val_loss: 0.1158 - val_acc: 0.9783\n",
            "Epoch 2/10\n",
            "31153/31153 [==============================] - 6s 200us/step - loss: 0.1584 - acc: 0.9603 - val_loss: 0.0454 - val_acc: 0.9924\n",
            "Epoch 3/10\n",
            "31153/31153 [==============================] - 6s 177us/step - loss: 0.0970 - acc: 0.9784 - val_loss: 0.0405 - val_acc: 0.9940\n",
            "Epoch 4/10\n",
            "31153/31153 [==============================] - 6s 188us/step - loss: 0.0809 - acc: 0.9826 - val_loss: 0.0380 - val_acc: 0.9946\n",
            "Epoch 5/10\n",
            "31153/31153 [==============================] - 6s 198us/step - loss: 0.0701 - acc: 0.9849 - val_loss: 0.0393 - val_acc: 0.9937\n",
            "Epoch 6/10\n",
            "31153/31153 [==============================] - 6s 207us/step - loss: 0.0646 - acc: 0.9868 - val_loss: 0.0370 - val_acc: 0.9945\n",
            "Epoch 7/10\n",
            "31153/31153 [==============================] - 6s 195us/step - loss: 0.0621 - acc: 0.9882 - val_loss: 0.0356 - val_acc: 0.9950\n",
            "Epoch 8/10\n",
            "31153/31153 [==============================] - 5s 175us/step - loss: 0.0577 - acc: 0.9894 - val_loss: 0.0330 - val_acc: 0.9967\n",
            "Epoch 9/10\n",
            "31153/31153 [==============================] - 5s 175us/step - loss: 0.0488 - acc: 0.9910 - val_loss: 0.0293 - val_acc: 0.9967\n",
            "Epoch 10/10\n",
            "31153/31153 [==============================] - 5s 175us/step - loss: 0.0605 - acc: 0.9895 - val_loss: 0.0326 - val_acc: 0.9960\n"
          ],
          "name": "stdout"
        },
        {
          "output_type": "execute_result",
          "data": {
            "text/plain": [
              "<keras.callbacks.History at 0x7f3f84984780>"
            ]
          },
          "metadata": {
            "tags": []
          },
          "execution_count": 37
        }
      ]
    },
    {
      "metadata": {
        "id": "fsfbOtu0aOPi",
        "colab_type": "text"
      },
      "cell_type": "markdown",
      "source": [
        "### Saving Model"
      ]
    },
    {
      "metadata": {
        "id": "3hDfE7OkIMPf",
        "colab_type": "code",
        "colab": {}
      },
      "cell_type": "code",
      "source": [
        "model.save(\"Captcha_Solver.h5\")"
      ],
      "execution_count": 0,
      "outputs": []
    },
    {
      "metadata": {
        "id": "J2jOexiQaGp7",
        "colab_type": "text"
      },
      "cell_type": "markdown",
      "source": [
        "###  Evaluating Model"
      ]
    },
    {
      "metadata": {
        "id": "cWjerIKtOn7c",
        "colab_type": "code",
        "colab": {}
      },
      "cell_type": "code",
      "source": [
        "def plot_model_history(model_name, history, epochs):\n",
        "    print(model_name)\n",
        "    plt.figure(figsize=(15, 5))\n",
        "\n",
        "    # summarize history for accuracy\n",
        "    plt.subplot(1, 2 ,1)\n",
        "    plt.plot(np.arange(0, len(history['acc'])), history['acc'], 'r')\n",
        "    plt.plot(np.arange(1, len(history['val_acc'])+1), history['val_acc'], 'g')\n",
        "    plt.xticks(np.arange(0, epochs+1, epochs/10))\n",
        "    plt.title('Training Accuracy vs. Validation Accuracy')\n",
        "    plt.xlabel('Num of Epochs')\n",
        "    plt.ylabel('Accuracy')\n",
        "    plt.legend(['train', 'validation'], loc='best')\n",
        "\n",
        "    plt.subplot(1, 2, 2)\n",
        "    plt.plot(np.arange(1, len(history['loss'])+1), history['loss'], 'r')\n",
        "    plt.plot(np.arange(1, len(history['val_loss'])+1), history['val_loss'], 'g')\n",
        "    plt.xticks(np.arange(0, epochs+1, epochs/10))\n",
        "    plt.title('Training Loss vs. Validation Loss')\n",
        "    plt.xlabel('Num of Epochs')\n",
        "    plt.ylabel('Loss')\n",
        "    plt.legend(['train', 'validation'], loc='best')\n",
        "\n",
        "\n",
        "    plt.show()"
      ],
      "execution_count": 0,
      "outputs": []
    },
    {
      "metadata": {
        "id": "R4y9ToeIOr_u",
        "colab_type": "code",
        "outputId": "433c6a17-b2c6-421a-ad15-4d5143e6ac1b",
        "colab": {
          "base_uri": "https://localhost:8080/",
          "height": 367
        }
      },
      "cell_type": "code",
      "source": [
        "plot_model_history('model',model.history.history,32)"
      ],
      "execution_count": 0,
      "outputs": [
        {
          "output_type": "stream",
          "text": [
            "model\n"
          ],
          "name": "stdout"
        },
        {
          "output_type": "display_data",
          "data": {
            "image/png": "[encoded data removed]",
            "text/plain": [
              "<Figure size 1080x360 with 2 Axes>"
            ]
          },
          "metadata": {
            "tags": []
          }
        }
      ]
    },
    {
      "metadata": {
        "id": "rTIBIH7tfWFY",
        "colab_type": "text"
      },
      "cell_type": "markdown",
      "source": [
        "## Testing the model on Outside Data"
      ]
    },
    {
      "metadata": {
        "id": "gJDwKgBlfa-a",
        "colab_type": "text"
      },
      "cell_type": "markdown",
      "source": [
        "### Captcha Preprocessing"
      ]
    },
    {
      "metadata": {
        "id": "uC496L4cuKpI",
        "colab_type": "code",
        "outputId": "7e2a31fb-63cb-4251-9145-919ec9e3c696",
        "colab": {
          "base_uri": "https://localhost:8080/",
          "height": 173
        }
      },
      "cell_type": "code",
      "source": [
        "from skimage.transform import resize\n",
        "img_size = 20\n",
        "\n",
        "predictions = []\n",
        "\n",
        "img = cv2.imread('captcha.jpg', cv2.IMREAD_GRAYSCALE)\n",
        "plt.imshow(img)\n",
        "image = cv2.copyMakeBorder(img,8,8,8,8,cv2.BORDER_REPLICATE)\n",
        "\n",
        "thresh = cv2.threshold(image, 0, 255, cv2.THRESH_BINARY_INV | cv2.THRESH_OTSU)[1]\n",
        "\n",
        "contours = cv2.findContours(thresh.copy(), cv2.RETR_EXTERNAL, cv2.CHAIN_APPROX_SIMPLE)\n",
        "\n",
        "contours = contours[0] if imutils.is_cv2() else contours[1]\n",
        "letter_image_regions = []\n",
        "\n",
        "for contour in contours:\n",
        "\n",
        "    (x,y,w,h) = cv2.boundingRect(contour)\n",
        "    if h == 0:\n",
        "        print(x,y,w,h)\n",
        "    if w/h > 1.25:\n",
        "\n",
        "        half_width = int(w/2)\n",
        "        letter_image_regions.append((x, y, half_width, h))\n",
        "        letter_image_regions.append((x + half_width, y, half_width, h))\n",
        "\n",
        "    else:\n",
        "        letter_image_regions.append((x,y,w,h))\n",
        "\n",
        "if len(letter_image_regions)>4:\n",
        "    print('Sorry! but the captcha is more than 4 letters!!')\n",
        "\n",
        "else:\n",
        "    letter_image_regions = sorted(letter_image_regions, key=lambda x: x[0])\n",
        "\n",
        "    for box,text in zip(letter_image_regions, correct_text):\n",
        "\n",
        "        (x,y,w,h) = box\n",
        "\n",
        "        letter_image = image[y-2: y+h+2,x-2:x+w+2]\n",
        "\n",
        "        X = cv2.resize(letter_image, (img_width, img_height), interpolation = cv2.INTER_CUBIC)\n",
        "        \n",
        "        X = X.reshape(1,20,20,1).astype('float32')\n",
        "        prediction = model.predict(X).argmax(axis = 1)[0]\n",
        "        for key,value in mapping.items():\n",
        "            if value == prediction:\n",
        "                prediction = key\n",
        "                break\n",
        "        predictions.append(prediction)\n",
        "    print(f\"The Captcha Text is {''.join(predictions)}\")"
      ],
      "execution_count": 0,
      "outputs": [
        {
          "output_type": "stream",
          "text": [
            "The Captcha Text is 8746\n"
          ],
          "name": "stdout"
        },
        {
          "output_type": "display_data",
          "data": {
            "image/png": "[encoded data removed]",
            "text/plain": [
              "<Figure size 432x288 with 1 Axes>"
            ]
          },
          "metadata": {
            "tags": []
          }
        }
      ]
    },
    {
      "metadata": {
        "id": "NkwYSgoAa58f",
        "colab_type": "code",
        "colab": {}
      },
      "cell_type": "code",
      "source": [
        ""
      ],
      "execution_count": 0,
      "outputs": []
    }
  ]
}